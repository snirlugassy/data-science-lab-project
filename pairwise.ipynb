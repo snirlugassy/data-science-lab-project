{
 "cells": [
  {
   "cell_type": "code",
   "execution_count": 2,
   "id": "f59f8943",
   "metadata": {},
   "outputs": [],
   "source": [
    "import pickle\n",
    "import pandas as pd\n",
    "from sklearn.metrics.pairwise import pairwise_distances"
   ]
  },
  {
   "cell_type": "code",
   "execution_count": 8,
   "id": "bf761e93",
   "metadata": {},
   "outputs": [],
   "source": [
    "!mv data.csv data_backup.csv"
   ]
  },
  {
   "cell_type": "code",
   "execution_count": 3,
   "id": "3cc7ed4f",
   "metadata": {},
   "outputs": [
    {
     "data": {
      "text/html": [
       "<div>\n",
       "<style scoped>\n",
       "    .dataframe tbody tr th:only-of-type {\n",
       "        vertical-align: middle;\n",
       "    }\n",
       "\n",
       "    .dataframe tbody tr th {\n",
       "        vertical-align: top;\n",
       "    }\n",
       "\n",
       "    .dataframe thead th {\n",
       "        text-align: right;\n",
       "    }\n",
       "</style>\n",
       "<table border=\"1\" class=\"dataframe\">\n",
       "  <thead>\n",
       "    <tr style=\"text-align: right;\">\n",
       "      <th></th>\n",
       "      <th>clean</th>\n",
       "      <th>industry</th>\n",
       "    </tr>\n",
       "  </thead>\n",
       "  <tbody>\n",
       "    <tr>\n",
       "      <th>0</th>\n",
       "      <td>benefit board benefit board homejoin planmembe...</td>\n",
       "      <td>marketing and advertising</td>\n",
       "    </tr>\n",
       "    <tr>\n",
       "      <th>1</th>\n",
       "      <td>home columbia landcar environment stewardship ...</td>\n",
       "      <td>environmental services</td>\n",
       "    </tr>\n",
       "    <tr>\n",
       "      <th>2</th>\n",
       "      <td>region inc homeaboutservicesclientsmentoringte...</td>\n",
       "      <td>management consulting</td>\n",
       "    </tr>\n",
       "    <tr>\n",
       "      <th>3</th>\n",
       "      <td>home team career servic civil design case stud...</td>\n",
       "      <td>civil engineering</td>\n",
       "    </tr>\n",
       "    <tr>\n",
       "      <th>4</th>\n",
       "      <td>home friedman associ pa friedman associ pa cer...</td>\n",
       "      <td>accounting</td>\n",
       "    </tr>\n",
       "    <tr>\n",
       "      <th>...</th>\n",
       "      <td>...</td>\n",
       "      <td>...</td>\n",
       "    </tr>\n",
       "    <tr>\n",
       "      <th>1694400</th>\n",
       "      <td>home byron bethani irrig district menu home go...</td>\n",
       "      <td>government administration</td>\n",
       "    </tr>\n",
       "    <tr>\n",
       "      <th>1694401</th>\n",
       "      <td>offici onlin store ewe athlet ewe athlet skip ...</td>\n",
       "      <td>apparel &amp; fashion</td>\n",
       "    </tr>\n",
       "    <tr>\n",
       "      <th>1694402</th>\n",
       "      <td>staf undercov product las vega undercov produc...</td>\n",
       "      <td>entertainment</td>\n",
       "    </tr>\n",
       "    <tr>\n",
       "      <th>1694403</th>\n",
       "      <td>optometr bill solut turn problem profit turn p...</td>\n",
       "      <td>hospital &amp; health care</td>\n",
       "    </tr>\n",
       "    <tr>\n",
       "      <th>1694404</th>\n",
       "      <td>australia guitar amp record specialist guitar ...</td>\n",
       "      <td>music</td>\n",
       "    </tr>\n",
       "  </tbody>\n",
       "</table>\n",
       "<p>1694405 rows × 2 columns</p>\n",
       "</div>"
      ],
      "text/plain": [
       "                                                     clean  \\\n",
       "0        benefit board benefit board homejoin planmembe...   \n",
       "1        home columbia landcar environment stewardship ...   \n",
       "2        region inc homeaboutservicesclientsmentoringte...   \n",
       "3        home team career servic civil design case stud...   \n",
       "4        home friedman associ pa friedman associ pa cer...   \n",
       "...                                                    ...   \n",
       "1694400  home byron bethani irrig district menu home go...   \n",
       "1694401  offici onlin store ewe athlet ewe athlet skip ...   \n",
       "1694402  staf undercov product las vega undercov produc...   \n",
       "1694403  optometr bill solut turn problem profit turn p...   \n",
       "1694404  australia guitar amp record specialist guitar ...   \n",
       "\n",
       "                          industry  \n",
       "0        marketing and advertising  \n",
       "1           environmental services  \n",
       "2            management consulting  \n",
       "3                civil engineering  \n",
       "4                       accounting  \n",
       "...                            ...  \n",
       "1694400  government administration  \n",
       "1694401          apparel & fashion  \n",
       "1694402              entertainment  \n",
       "1694403     hospital & health care  \n",
       "1694404                      music  \n",
       "\n",
       "[1694405 rows x 2 columns]"
      ]
     },
     "execution_count": 3,
     "metadata": {},
     "output_type": "execute_result"
    }
   ],
   "source": [
    "data = pd.read_csv('~/filtered.csv')\n",
    "data"
   ]
  },
  {
   "cell_type": "code",
   "execution_count": null,
   "id": "2e44cd18",
   "metadata": {},
   "outputs": [],
   "source": [
    "# industry2row = {}\n",
    "# for industry, group in data.groupby('industry'):\n",
    "#     industry2row[industry] = list(group.index)\n",
    "# industry2row\n",
    "# with open('industry2row.pkl', 'wb') as f:\n",
    "#     pickle.dump(industry2row, f)"
   ]
  },
  {
   "cell_type": "code",
   "execution_count": 4,
   "id": "8dec919e",
   "metadata": {},
   "outputs": [
    {
     "data": {
      "text/html": [
       "<div>\n",
       "<style scoped>\n",
       "    .dataframe tbody tr th:only-of-type {\n",
       "        vertical-align: middle;\n",
       "    }\n",
       "\n",
       "    .dataframe tbody tr th {\n",
       "        vertical-align: top;\n",
       "    }\n",
       "\n",
       "    .dataframe thead th {\n",
       "        text-align: right;\n",
       "    }\n",
       "</style>\n",
       "<table border=\"1\" class=\"dataframe\">\n",
       "  <thead>\n",
       "    <tr style=\"text-align: right;\">\n",
       "      <th></th>\n",
       "      <th>clean</th>\n",
       "      <th>industry</th>\n",
       "      <th>cluster</th>\n",
       "    </tr>\n",
       "  </thead>\n",
       "  <tbody>\n",
       "    <tr>\n",
       "      <th>0</th>\n",
       "      <td>benefit board benefit board homejoin planmembe...</td>\n",
       "      <td>marketing and advertising</td>\n",
       "      <td>1</td>\n",
       "    </tr>\n",
       "    <tr>\n",
       "      <th>1</th>\n",
       "      <td>home columbia landcar environment stewardship ...</td>\n",
       "      <td>environmental services</td>\n",
       "      <td>4</td>\n",
       "    </tr>\n",
       "    <tr>\n",
       "      <th>2</th>\n",
       "      <td>region inc homeaboutservicesclientsmentoringte...</td>\n",
       "      <td>management consulting</td>\n",
       "      <td>0</td>\n",
       "    </tr>\n",
       "    <tr>\n",
       "      <th>3</th>\n",
       "      <td>home team career servic civil design case stud...</td>\n",
       "      <td>civil engineering</td>\n",
       "      <td>0</td>\n",
       "    </tr>\n",
       "    <tr>\n",
       "      <th>4</th>\n",
       "      <td>home friedman associ pa friedman associ pa cer...</td>\n",
       "      <td>accounting</td>\n",
       "      <td>3</td>\n",
       "    </tr>\n",
       "    <tr>\n",
       "      <th>...</th>\n",
       "      <td>...</td>\n",
       "      <td>...</td>\n",
       "      <td>...</td>\n",
       "    </tr>\n",
       "    <tr>\n",
       "      <th>1694400</th>\n",
       "      <td>home byron bethani irrig district menu home go...</td>\n",
       "      <td>government administration</td>\n",
       "      <td>4</td>\n",
       "    </tr>\n",
       "    <tr>\n",
       "      <th>1694401</th>\n",
       "      <td>offici onlin store ewe athlet ewe athlet skip ...</td>\n",
       "      <td>apparel &amp; fashion</td>\n",
       "      <td>4</td>\n",
       "    </tr>\n",
       "    <tr>\n",
       "      <th>1694402</th>\n",
       "      <td>staf undercov product las vega undercov produc...</td>\n",
       "      <td>entertainment</td>\n",
       "      <td>4</td>\n",
       "    </tr>\n",
       "    <tr>\n",
       "      <th>1694403</th>\n",
       "      <td>optometr bill solut turn problem profit turn p...</td>\n",
       "      <td>hospital &amp; health care</td>\n",
       "      <td>2</td>\n",
       "    </tr>\n",
       "    <tr>\n",
       "      <th>1694404</th>\n",
       "      <td>australia guitar amp record specialist guitar ...</td>\n",
       "      <td>music</td>\n",
       "      <td>4</td>\n",
       "    </tr>\n",
       "  </tbody>\n",
       "</table>\n",
       "<p>1694405 rows × 3 columns</p>\n",
       "</div>"
      ],
      "text/plain": [
       "                                                     clean  \\\n",
       "0        benefit board benefit board homejoin planmembe...   \n",
       "1        home columbia landcar environment stewardship ...   \n",
       "2        region inc homeaboutservicesclientsmentoringte...   \n",
       "3        home team career servic civil design case stud...   \n",
       "4        home friedman associ pa friedman associ pa cer...   \n",
       "...                                                    ...   \n",
       "1694400  home byron bethani irrig district menu home go...   \n",
       "1694401  offici onlin store ewe athlet ewe athlet skip ...   \n",
       "1694402  staf undercov product las vega undercov produc...   \n",
       "1694403  optometr bill solut turn problem profit turn p...   \n",
       "1694404  australia guitar amp record specialist guitar ...   \n",
       "\n",
       "                          industry  cluster  \n",
       "0        marketing and advertising        1  \n",
       "1           environmental services        4  \n",
       "2            management consulting        0  \n",
       "3                civil engineering        0  \n",
       "4                       accounting        3  \n",
       "...                            ...      ...  \n",
       "1694400  government administration        4  \n",
       "1694401          apparel & fashion        4  \n",
       "1694402              entertainment        4  \n",
       "1694403     hospital & health care        2  \n",
       "1694404                      music        4  \n",
       "\n",
       "[1694405 rows x 3 columns]"
      ]
     },
     "execution_count": 4,
     "metadata": {},
     "output_type": "execute_result"
    }
   ],
   "source": [
    "with open('doc2cluster.pkl', 'rb') as f:\n",
    "    clusters = pickle.load(f)\n",
    "    data['cluster'] = clusters\n",
    "data"
   ]
  },
  {
   "cell_type": "code",
   "execution_count": 5,
   "id": "c926fcf0",
   "metadata": {},
   "outputs": [],
   "source": [
    "data.to_csv('data.csv')"
   ]
  },
  {
   "cell_type": "code",
   "execution_count": 5,
   "id": "72a77a06",
   "metadata": {},
   "outputs": [
    {
     "data": {
      "text/plain": [
       "(1694405, 11695315)"
      ]
     },
     "execution_count": 5,
     "metadata": {},
     "output_type": "execute_result"
    }
   ],
   "source": [
    "with open('vectors.pkl', 'rb') as f:\n",
    "    vectors = pickle.load(f)\n",
    "\n",
    "vectors.shape"
   ]
  },
  {
   "cell_type": "code",
   "execution_count": 13,
   "id": "d738714a",
   "metadata": {},
   "outputs": [
    {
     "data": {
      "text/plain": [
       "<3x11695315 sparse matrix of type '<class 'numpy.float64'>'\n",
       "\twith 606 stored elements in Compressed Sparse Row format>"
      ]
     },
     "execution_count": 13,
     "metadata": {},
     "output_type": "execute_result"
    }
   ],
   "source": [
    "vectors[[1,4,5]]"
   ]
  },
  {
   "cell_type": "code",
   "execution_count": 6,
   "id": "a8de7721",
   "metadata": {
    "scrolled": true
   },
   "outputs": [
    {
     "name": "stdout",
     "output_type": "stream",
     "text": [
      "marketing and advertising 1\n"
     ]
    }
   ],
   "source": [
    "industries = data.industry.unique()\n",
    "clusters = data.cluster.unique()\n",
    "\n",
    "for i in industries:\n",
    "    for c in clusters:\n",
    "        print(i,c)\n",
    "        left = data[(data.industry == i) & (data.cluster == c)]\n",
    "        if left.shape[0] > 0:\n",
    "            right = data[(data.industry != i) & (data.cluster == c)]\n",
    "            assert right.shape[0] > 0\n",
    "            dist = pairwise_distances(vectors[left.index], vectors[right.index], metric='cosine')\n",
    "        break\n",
    "    break"
   ]
  },
  {
   "cell_type": "code",
   "execution_count": null,
   "id": "f75c371f",
   "metadata": {},
   "outputs": [],
   "source": [
    "left"
   ]
  },
  {
   "cell_type": "code",
   "execution_count": null,
   "id": "6879e341",
   "metadata": {},
   "outputs": [],
   "source": [
    "right"
   ]
  },
  {
   "cell_type": "code",
   "execution_count": null,
   "id": "c3207c2a",
   "metadata": {},
   "outputs": [],
   "source": [
    "dist"
   ]
  },
  {
   "cell_type": "code",
   "execution_count": null,
   "id": "4d901486",
   "metadata": {},
   "outputs": [],
   "source": []
  },
  {
   "cell_type": "code",
   "execution_count": null,
   "id": "9fced3be",
   "metadata": {},
   "outputs": [],
   "source": []
  },
  {
   "cell_type": "code",
   "execution_count": null,
   "id": "1e118589",
   "metadata": {},
   "outputs": [],
   "source": [
    "cosine_values = pairwise_distances(X=tfidf_industry, Y=tfidf_other, metric='cosine')\n",
    "cosine_values = scipy.sparse.csr_matrix(cosine_values)\n",
    "indices = cosine_values.argmax(axis=1)\n",
    "for i, index in enumerate(current_industry_indices):\n",
    "    related_of[index] = current_other_indices[indices[i,0]]\n",
    "print(cosine_values)"
   ]
  },
  {
   "cell_type": "code",
   "execution_count": null,
   "id": "961577b2",
   "metadata": {},
   "outputs": [],
   "source": []
  }
 ],
 "metadata": {
  "kernelspec": {
   "display_name": "Python 3",
   "language": "python",
   "name": "python3"
  },
  "language_info": {
   "codemirror_mode": {
    "name": "ipython",
    "version": 3
   },
   "file_extension": ".py",
   "mimetype": "text/x-python",
   "name": "python",
   "nbconvert_exporter": "python",
   "pygments_lexer": "ipython3",
   "version": "3.8.8"
  }
 },
 "nbformat": 4,
 "nbformat_minor": 5
}
