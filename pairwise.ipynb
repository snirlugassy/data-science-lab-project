{
 "cells": [
  {
   "cell_type": "code",
   "execution_count": 2,
   "id": "42d556c4",
   "metadata": {},
   "outputs": [],
   "source": [
    "import pickle\n",
    "import numpy as np\n",
    "import pandas as pd\n",
    "from pysparnn.cluster_index import ClusterIndex"
   ]
  },
  {
   "cell_type": "code",
   "execution_count": 2,
   "id": "7134b325",
   "metadata": {},
   "outputs": [],
   "source": [
    "vectors = pickle.load(open('vectors.pkl','rb'))"
   ]
  },
  {
   "cell_type": "code",
   "execution_count": 3,
   "id": "9d9ed096",
   "metadata": {},
   "outputs": [],
   "source": [
    "data = pd.read_csv('data.csv')"
   ]
  },
  {
   "cell_type": "code",
   "execution_count": 3,
   "id": "d5f5c95e",
   "metadata": {},
   "outputs": [
    {
     "data": {
      "text/plain": [
       "pysparnn.cluster_index.ClusterIndex"
      ]
     },
     "execution_count": 3,
     "metadata": {},
     "output_type": "execute_result"
    }
   ],
   "source": [
    "with open('nn_index.pkl', 'rb') as f:\n",
    "    index = pickle.load(f)\n",
    "type(index)"
   ]
  },
  {
   "cell_type": "code",
   "execution_count": 10,
   "id": "1673abd8",
   "metadata": {},
   "outputs": [
    {
     "name": "stdout",
     "output_type": "stream",
     "text": [
      "37.1 ms ± 807 µs per loop (mean ± std. dev. of 7 runs, 10 loops each)\n"
     ]
    }
   ],
   "source": [
    "%%timeit \n",
    "index.search(vectors[0], k=2, return_distance=False)"
   ]
  },
  {
   "cell_type": "code",
   "execution_count": 9,
   "id": "6e23fbf4",
   "metadata": {},
   "outputs": [
    {
     "data": {
      "text/plain": [
       "(1216967, 6047551)"
      ]
     },
     "execution_count": 9,
     "metadata": {},
     "output_type": "execute_result"
    }
   ],
   "source": [
    "vectors.shape"
   ]
  },
  {
   "cell_type": "code",
   "execution_count": 29,
   "id": "046f7896",
   "metadata": {},
   "outputs": [
    {
     "data": {
      "text/html": [
       "<div>\n",
       "<style scoped>\n",
       "    .dataframe tbody tr th:only-of-type {\n",
       "        vertical-align: middle;\n",
       "    }\n",
       "\n",
       "    .dataframe tbody tr th {\n",
       "        vertical-align: top;\n",
       "    }\n",
       "\n",
       "    .dataframe thead th {\n",
       "        text-align: right;\n",
       "    }\n",
       "</style>\n",
       "<table border=\"1\" class=\"dataframe\">\n",
       "  <thead>\n",
       "    <tr style=\"text-align: right;\">\n",
       "      <th></th>\n",
       "      <th>text</th>\n",
       "      <th>industry</th>\n",
       "      <th>related_to</th>\n",
       "    </tr>\n",
       "  </thead>\n",
       "  <tbody>\n",
       "    <tr>\n",
       "      <th>0</th>\n",
       "      <td>benefits board benefits board homejoin plannin...</td>\n",
       "      <td>marketing and advertising</td>\n",
       "      <td>0</td>\n",
       "    </tr>\n",
       "    <tr>\n",
       "      <th>1</th>\n",
       "      <td>home columbia landcare environmental stewardsh...</td>\n",
       "      <td>environmental services</td>\n",
       "      <td>0</td>\n",
       "    </tr>\n",
       "    <tr>\n",
       "      <th>2</th>\n",
       "      <td>region inc worldwide revenue accelerating worl...</td>\n",
       "      <td>management consulting</td>\n",
       "      <td>0</td>\n",
       "    </tr>\n",
       "    <tr>\n",
       "      <th>3</th>\n",
       "      <td>home team careers services civil design case s...</td>\n",
       "      <td>civil engineering</td>\n",
       "      <td>0</td>\n",
       "    </tr>\n",
       "    <tr>\n",
       "      <th>4</th>\n",
       "      <td>home friedman associates friedman associates c...</td>\n",
       "      <td>accounting</td>\n",
       "      <td>0</td>\n",
       "    </tr>\n",
       "    <tr>\n",
       "      <th>...</th>\n",
       "      <td>...</td>\n",
       "      <td>...</td>\n",
       "      <td>...</td>\n",
       "    </tr>\n",
       "    <tr>\n",
       "      <th>1216962</th>\n",
       "      <td>home plattsburgh health group skip content mil...</td>\n",
       "      <td>hospital &amp; health care</td>\n",
       "      <td>0</td>\n",
       "    </tr>\n",
       "    <tr>\n",
       "      <th>1216963</th>\n",
       "      <td>home byron bethany irrigation district menu ho...</td>\n",
       "      <td>government administration</td>\n",
       "      <td>0</td>\n",
       "    </tr>\n",
       "    <tr>\n",
       "      <th>1216964</th>\n",
       "      <td>official online store ewing athletics ewing at...</td>\n",
       "      <td>apparel &amp; fashion</td>\n",
       "      <td>0</td>\n",
       "    </tr>\n",
       "    <tr>\n",
       "      <th>1216965</th>\n",
       "      <td>staffing undercover productions las vegas unde...</td>\n",
       "      <td>entertainment</td>\n",
       "      <td>0</td>\n",
       "    </tr>\n",
       "    <tr>\n",
       "      <th>1216966</th>\n",
       "      <td>optometric billing solutions turning problems ...</td>\n",
       "      <td>hospital &amp; health care</td>\n",
       "      <td>0</td>\n",
       "    </tr>\n",
       "  </tbody>\n",
       "</table>\n",
       "<p>1216967 rows × 3 columns</p>\n",
       "</div>"
      ],
      "text/plain": [
       "                                                      text  \\\n",
       "0        benefits board benefits board homejoin plannin...   \n",
       "1        home columbia landcare environmental stewardsh...   \n",
       "2        region inc worldwide revenue accelerating worl...   \n",
       "3        home team careers services civil design case s...   \n",
       "4        home friedman associates friedman associates c...   \n",
       "...                                                    ...   \n",
       "1216962  home plattsburgh health group skip content mil...   \n",
       "1216963  home byron bethany irrigation district menu ho...   \n",
       "1216964  official online store ewing athletics ewing at...   \n",
       "1216965  staffing undercover productions las vegas unde...   \n",
       "1216966  optometric billing solutions turning problems ...   \n",
       "\n",
       "                          industry  related_to  \n",
       "0        marketing and advertising           0  \n",
       "1           environmental services           0  \n",
       "2            management consulting           0  \n",
       "3                civil engineering           0  \n",
       "4                       accounting           0  \n",
       "...                            ...         ...  \n",
       "1216962     hospital & health care           0  \n",
       "1216963  government administration           0  \n",
       "1216964          apparel & fashion           0  \n",
       "1216965              entertainment           0  \n",
       "1216966     hospital & health care           0  \n",
       "\n",
       "[1216967 rows x 3 columns]"
      ]
     },
     "execution_count": 29,
     "metadata": {},
     "output_type": "execute_result"
    }
   ],
   "source": [
    "data['related_to'] = 0\n",
    "data"
   ]
  },
  {
   "cell_type": "code",
   "execution_count": 18,
   "id": "3c32865f",
   "metadata": {},
   "outputs": [
    {
     "name": "stdout",
     "output_type": "stream",
     "text": [
      "639926\n"
     ]
    }
   ],
   "source": [
    "# assign to each company the nearest neighbor using the index to 'related_to'\n",
    "# each company is also considered as neighbor for itself,\n",
    "# therefore, consider only the second neighbor\n",
    "\n",
    "for i in range(data.shape[0]):\n",
    "    print(i, end='\\r')\n",
    "    data.at[i, 'related_to'] = index.search(vectors[i], k=2, return_distance=False)[0][1]"
   ]
  },
  {
   "cell_type": "code",
   "execution_count": 5,
   "id": "30544900",
   "metadata": {},
   "outputs": [],
   "source": [
    "data['related_industry'] = data.related_to.apply(lambda i: data.iloc[i].industry)"
   ]
  },
  {
   "cell_type": "code",
   "execution_count": 13,
   "id": "06a8090e",
   "metadata": {},
   "outputs": [
    {
     "data": {
      "text/html": [
       "<div>\n",
       "<style scoped>\n",
       "    .dataframe tbody tr th:only-of-type {\n",
       "        vertical-align: middle;\n",
       "    }\n",
       "\n",
       "    .dataframe tbody tr th {\n",
       "        vertical-align: top;\n",
       "    }\n",
       "\n",
       "    .dataframe thead th {\n",
       "        text-align: right;\n",
       "    }\n",
       "</style>\n",
       "<table border=\"1\" class=\"dataframe\">\n",
       "  <thead>\n",
       "    <tr style=\"text-align: right;\">\n",
       "      <th></th>\n",
       "      <th>text</th>\n",
       "      <th>industry</th>\n",
       "      <th>related_to</th>\n",
       "      <th>related_industry</th>\n",
       "    </tr>\n",
       "  </thead>\n",
       "  <tbody>\n",
       "    <tr>\n",
       "      <th>0</th>\n",
       "      <td>benefits board benefits board homejoin plannin...</td>\n",
       "      <td>marketing and advertising</td>\n",
       "      <td>419576</td>\n",
       "      <td>investment management</td>\n",
       "    </tr>\n",
       "    <tr>\n",
       "      <th>1</th>\n",
       "      <td>home columbia landcare environmental stewardsh...</td>\n",
       "      <td>environmental services</td>\n",
       "      <td>1161311</td>\n",
       "      <td>facilities services</td>\n",
       "    </tr>\n",
       "    <tr>\n",
       "      <th>2</th>\n",
       "      <td>region inc worldwide revenue accelerating worl...</td>\n",
       "      <td>management consulting</td>\n",
       "      <td>784108</td>\n",
       "      <td>hospital &amp; health care</td>\n",
       "    </tr>\n",
       "    <tr>\n",
       "      <th>3</th>\n",
       "      <td>home team careers services civil design case s...</td>\n",
       "      <td>civil engineering</td>\n",
       "      <td>969156</td>\n",
       "      <td>marketing and advertising</td>\n",
       "    </tr>\n",
       "    <tr>\n",
       "      <th>4</th>\n",
       "      <td>home friedman associates friedman associates c...</td>\n",
       "      <td>accounting</td>\n",
       "      <td>509477</td>\n",
       "      <td>accounting</td>\n",
       "    </tr>\n",
       "  </tbody>\n",
       "</table>\n",
       "</div>"
      ],
      "text/plain": [
       "                                                text  \\\n",
       "0  benefits board benefits board homejoin plannin...   \n",
       "1  home columbia landcare environmental stewardsh...   \n",
       "2  region inc worldwide revenue accelerating worl...   \n",
       "3  home team careers services civil design case s...   \n",
       "4  home friedman associates friedman associates c...   \n",
       "\n",
       "                    industry  related_to           related_industry  \n",
       "0  marketing and advertising      419576      investment management  \n",
       "1     environmental services     1161311        facilities services  \n",
       "2      management consulting      784108     hospital & health care  \n",
       "3          civil engineering      969156  marketing and advertising  \n",
       "4                 accounting      509477                 accounting  "
      ]
     },
     "execution_count": 13,
     "metadata": {},
     "output_type": "execute_result"
    }
   ],
   "source": [
    "data.head(5)"
   ]
  },
  {
   "cell_type": "code",
   "execution_count": 12,
   "id": "36a9fbd5",
   "metadata": {},
   "outputs": [],
   "source": [
    "data.to_csv('data.csv', index=False)"
   ]
  }
 ],
 "metadata": {
  "kernelspec": {
   "display_name": "Python 3",
   "language": "python",
   "name": "python3"
  },
  "language_info": {
   "codemirror_mode": {
    "name": "ipython",
    "version": 3
   },
   "file_extension": ".py",
   "mimetype": "text/x-python",
   "name": "python",
   "nbconvert_exporter": "python",
   "pygments_lexer": "ipython3",
   "version": "3.8.8"
  }
 },
 "nbformat": 4,
 "nbformat_minor": 5
}
