{
 "cells": [
  {
   "cell_type": "code",
   "execution_count": 1,
   "id": "f59f8943",
   "metadata": {},
   "outputs": [],
   "source": [
    "import pickle\n",
    "import pandas as pd\n",
    "from scipy import sparse"
   ]
  },
  {
   "cell_type": "code",
   "execution_count": 5,
   "id": "bf761e93",
   "metadata": {},
   "outputs": [
    {
     "name": "stdout",
     "output_type": "stream",
     "text": [
      "text,industry,cluster\n",
      "benefits board benefits board homejoin planning tab navigate menu items view account online member account portal provides access information state art security encryption join plan visit membership overview page learn minister retirement plan benefits board currently offering matching contributions new participants church loan fund low rates refinancing know signup subscribe nowcongrats subscribed knowconnect toll free local fax mail info benefitsboard com deposit funds make contribution deposits using secure electronic payment system enroll first time user know april final instructions passed away today would family know access important accounts files insurance policies even social media accounts current pandemic contributed hundreds thousands deaths people would likely lived much longer lives many unexpected deaths read church god benefits board cleveland privacy policy,marketing and advertising,0\n"
     ]
    }
   ],
   "source": [
    "!head -n 2 sample_processed.csv\n"
   ]
  },
  {
   "cell_type": "code",
   "execution_count": 6,
   "id": "3cc7ed4f",
   "metadata": {},
   "outputs": [
    {
     "data": {
      "text/html": [
       "<div>\n",
       "<style scoped>\n",
       "    .dataframe tbody tr th:only-of-type {\n",
       "        vertical-align: middle;\n",
       "    }\n",
       "\n",
       "    .dataframe tbody tr th {\n",
       "        vertical-align: top;\n",
       "    }\n",
       "\n",
       "    .dataframe thead th {\n",
       "        text-align: right;\n",
       "    }\n",
       "</style>\n",
       "<table border=\"1\" class=\"dataframe\">\n",
       "  <thead>\n",
       "    <tr style=\"text-align: right;\">\n",
       "      <th></th>\n",
       "      <th>text</th>\n",
       "      <th>industry</th>\n",
       "      <th>cluster</th>\n",
       "    </tr>\n",
       "  </thead>\n",
       "  <tbody>\n",
       "    <tr>\n",
       "      <th>0</th>\n",
       "      <td>benefits board benefits board homejoin plannin...</td>\n",
       "      <td>marketing and advertising</td>\n",
       "      <td>0</td>\n",
       "    </tr>\n",
       "    <tr>\n",
       "      <th>1</th>\n",
       "      <td>home columbia landcare environmental stewardsh...</td>\n",
       "      <td>environmental services</td>\n",
       "      <td>4</td>\n",
       "    </tr>\n",
       "    <tr>\n",
       "      <th>2</th>\n",
       "      <td>region inc worldwide revenue accelerating worl...</td>\n",
       "      <td>management consulting</td>\n",
       "      <td>3</td>\n",
       "    </tr>\n",
       "    <tr>\n",
       "      <th>3</th>\n",
       "      <td>home team careers services civil design case s...</td>\n",
       "      <td>civil engineering</td>\n",
       "      <td>4</td>\n",
       "    </tr>\n",
       "    <tr>\n",
       "      <th>4</th>\n",
       "      <td>home friedman associates friedman associates c...</td>\n",
       "      <td>accounting</td>\n",
       "      <td>3</td>\n",
       "    </tr>\n",
       "    <tr>\n",
       "      <th>5</th>\n",
       "      <td>big rapids real estate search houses homes sal...</td>\n",
       "      <td>real estate</td>\n",
       "      <td>3</td>\n",
       "    </tr>\n",
       "    <tr>\n",
       "      <th>6</th>\n",
       "      <td>garcia law firm garcia law firm home attorney ...</td>\n",
       "      <td>legal services</td>\n",
       "      <td>3</td>\n",
       "    </tr>\n",
       "    <tr>\n",
       "      <th>7</th>\n",
       "      <td>guardian athletics kato collar invest online s...</td>\n",
       "      <td>sports</td>\n",
       "      <td>0</td>\n",
       "    </tr>\n",
       "    <tr>\n",
       "      <th>8</th>\n",
       "      <td>miracle doors america premier door service com...</td>\n",
       "      <td>utilities</td>\n",
       "      <td>4</td>\n",
       "    </tr>\n",
       "    <tr>\n",
       "      <th>9</th>\n",
       "      <td>valerion biotechnology company focused develop...</td>\n",
       "      <td>biotechnology</td>\n",
       "      <td>0</td>\n",
       "    </tr>\n",
       "  </tbody>\n",
       "</table>\n",
       "</div>"
      ],
      "text/plain": [
       "                                                text  \\\n",
       "0  benefits board benefits board homejoin plannin...   \n",
       "1  home columbia landcare environmental stewardsh...   \n",
       "2  region inc worldwide revenue accelerating worl...   \n",
       "3  home team careers services civil design case s...   \n",
       "4  home friedman associates friedman associates c...   \n",
       "5  big rapids real estate search houses homes sal...   \n",
       "6  garcia law firm garcia law firm home attorney ...   \n",
       "7  guardian athletics kato collar invest online s...   \n",
       "8  miracle doors america premier door service com...   \n",
       "9  valerion biotechnology company focused develop...   \n",
       "\n",
       "                    industry  cluster  \n",
       "0  marketing and advertising        0  \n",
       "1     environmental services        4  \n",
       "2      management consulting        3  \n",
       "3          civil engineering        4  \n",
       "4                 accounting        3  \n",
       "5                real estate        3  \n",
       "6             legal services        3  \n",
       "7                     sports        0  \n",
       "8                  utilities        4  \n",
       "9              biotechnology        0  "
      ]
     },
     "execution_count": 6,
     "metadata": {},
     "output_type": "execute_result"
    }
   ],
   "source": [
    "data = pd.read_csv('sample_processed.csv')\n",
    "data.head(10)"
   ]
  },
  {
   "cell_type": "code",
   "execution_count": 7,
   "id": "72a77a06",
   "metadata": {},
   "outputs": [
    {
     "data": {
      "text/plain": [
       "(215160, 1611989)"
      ]
     },
     "execution_count": 7,
     "metadata": {},
     "output_type": "execute_result"
    }
   ],
   "source": [
    "with open('vectors.pkl', 'rb') as f:\n",
    "    vectors = pickle.load(f)\n",
    "\n",
    "vectors.shape"
   ]
  },
  {
   "cell_type": "code",
   "execution_count": 8,
   "id": "7c9c76f9",
   "metadata": {},
   "outputs": [
    {
     "data": {
      "text/plain": [
       "0.016355522371438964"
      ]
     },
     "execution_count": 8,
     "metadata": {},
     "output_type": "execute_result"
    }
   ],
   "source": [
    "def cosine(x:sparse.spmatrix,y: sparse.spmatrix):\n",
    "    return x.multiply(y).sum() / (x.dot(x.T).sqrt().sum() * y.dot(y.T).sqrt().sum())\n",
    "\n",
    "cosine(vectors[5], vectors[7])"
   ]
  },
  {
   "cell_type": "code",
   "execution_count": null,
   "id": "d738714a",
   "metadata": {},
   "outputs": [],
   "source": [
    "_df = data[data['cluster'] == 0]\n",
    "\n",
    "pairs = (\n",
    "    (i1, i2) \n",
    "    for i1, x1 in _df.iterrows() \n",
    "    for i2, x2 in _df.iterrows() \n",
    "    if i1 < i2 and x1.industry != x2.industry\n",
    ")\n",
    "\n",
    "for t in range(2):\n",
    "    print('---')\n",
    "    i,j = next(pairs)\n",
    "    print((i,j,cosine(vectors[i], vectors[j])))"
   ]
  },
  {
   "cell_type": "code",
   "execution_count": 9,
   "id": "6929477b",
   "metadata": {},
   "outputs": [],
   "source": [
    "import threading\n",
    "\n",
    "# _df = data[data['cluster'] == 0]\n",
    "\n",
    "# pairs = (\n",
    "#     (i1, i2) \n",
    "#     for i1, x1 in _df.iterrows() \n",
    "#     for i2, x2 in _df.iterrows() \n",
    "#     if i1 < i2 and x1.industry != x2.industry\n",
    "# )\n",
    "\n",
    "# for t in range(2):\n",
    "#     print('---')\n",
    "#     i,j = next(pairs)\n",
    "#     print((i,j,cosine(vectors[i], vectors[j])))\n",
    "\n",
    "class ClusterPairwiseSimilarityThread(threading.Thread):\n",
    "    def __init__(self, df, cluster_id, vectors, output_file) -> None:\n",
    "        threading.Thread.__init__(self)\n",
    "        assert 'cluster' in df.columns\n",
    "        assert 'industry' in df.columns\n",
    "        self.df = df\n",
    "        self.vectors = vectors\n",
    "        self.cluster_id = cluster_id\n",
    "        self.output_file = output_file\n",
    "    \n",
    "    def __get_pairs(self):\n",
    "        _df = self.df[self.df.cluster == self.cluster_id]\n",
    "        return (\n",
    "            (i1, i2) \n",
    "            for i1, x1 in _df.iterrows() \n",
    "            for i2, x2 in _df.iterrows() \n",
    "            if i1 < i2 and x1.industry != x2.industry\n",
    "        )\n",
    "\n",
    "    def run(self):\n",
    "        print('Calculating pairwise cosine similarity for cluster ' + str(self.cluster_id))\n",
    "        with open(self.output_file, 'w') as out:\n",
    "            for i,j in self.__get_pairs():\n",
    "                out.write(f'{i},{j},{cosine(self.vectors[i], self.vectors[j])}\\n')\n",
    "        print('Finished cluster ' + str(self.cluster_id))\n",
    "        "
   ]
  },
  {
   "cell_type": "code",
   "execution_count": 10,
   "id": "221aff5a",
   "metadata": {},
   "outputs": [],
   "source": [
    "threads = []"
   ]
  },
  {
   "cell_type": "code",
   "execution_count": 11,
   "id": "e3b7a201",
   "metadata": {},
   "outputs": [
    {
     "name": "stdout",
     "output_type": "stream",
     "text": [
      "Calculating pairwise cosine similarity for cluster 0\n"
     ]
    }
   ],
   "source": [
    "t = ClusterPairwiseSimilarityThread(data, 0, vectors, 'cluster_0_similarities.txt')\n",
    "t.start()\n",
    "threads.append(t)"
   ]
  },
  {
   "cell_type": "code",
   "execution_count": 13,
   "id": "0a9d2a2a",
   "metadata": {},
   "outputs": [
    {
     "name": "stdout",
     "output_type": "stream",
     "text": [
      "Calculating pairwise cosine similarity for cluster 4\n",
      "Calculating pairwise cosine similarity for cluster 3\n",
      "Calculating pairwise cosine similarity for cluster 2\n",
      "Calculating pairwise cosine similarity for cluster 1\n",
      "Calculating pairwise cosine similarity for cluster 5\n"
     ]
    }
   ],
   "source": [
    "for c in data.cluster.unique():\n",
    "    if c != 0: # DELETE ME\n",
    "        t = ClusterPairwiseSimilarityThread(data, c, vectors, f'cluster_{c}_similarities.txt')\n",
    "        t.start()\n",
    "        threads.append(t)"
   ]
  },
  {
   "cell_type": "code",
   "execution_count": 6,
   "id": "a8de7721",
   "metadata": {
    "scrolled": true
   },
   "outputs": [
    {
     "name": "stdout",
     "output_type": "stream",
     "text": [
      "marketing and advertising 3\n"
     ]
    }
   ],
   "source": [
    "industries = data.industry.unique()\n",
    "clusters = data.cluster.unique()\n",
    "\n",
    "distance = {}\n",
    "\n",
    "for i in industries:\n",
    "    for c in clusters:\n",
    "        print(i,c)\n",
    "        left = data[(data.industry == i) & (data.cluster == c)]\n",
    "        if left.shape[0] > 0:\n",
    "            right = data[(data.industry != i) & (data.cluster == c)]\n",
    "            assert right.shape[0] > 0\n",
    "\n",
    "            for \n",
    "            # dist = pairwise_distances(vectors[left.index], vectors[right.index], metric='cosine')\n",
    "        break\n",
    "    break"
   ]
  },
  {
   "cell_type": "code",
   "execution_count": 7,
   "id": "f75c371f",
   "metadata": {},
   "outputs": [
    {
     "data": {
      "text/html": [
       "<div>\n",
       "<style scoped>\n",
       "    .dataframe tbody tr th:only-of-type {\n",
       "        vertical-align: middle;\n",
       "    }\n",
       "\n",
       "    .dataframe tbody tr th {\n",
       "        vertical-align: top;\n",
       "    }\n",
       "\n",
       "    .dataframe thead th {\n",
       "        text-align: right;\n",
       "    }\n",
       "</style>\n",
       "<table border=\"1\" class=\"dataframe\">\n",
       "  <thead>\n",
       "    <tr style=\"text-align: right;\">\n",
       "      <th></th>\n",
       "      <th>Unnamed: 0</th>\n",
       "      <th>text</th>\n",
       "      <th>industry</th>\n",
       "      <th>cluster</th>\n",
       "    </tr>\n",
       "  </thead>\n",
       "  <tbody>\n",
       "    <tr>\n",
       "      <th>0</th>\n",
       "      <td>0</td>\n",
       "      <td>benefits board benefits board homejoin plannin...</td>\n",
       "      <td>marketing and advertising</td>\n",
       "      <td>3</td>\n",
       "    </tr>\n",
       "    <tr>\n",
       "      <th>207</th>\n",
       "      <td>207</td>\n",
       "      <td>green card wisconsin newest discount golf card...</td>\n",
       "      <td>marketing and advertising</td>\n",
       "      <td>3</td>\n",
       "    </tr>\n",
       "    <tr>\n",
       "      <th>214</th>\n",
       "      <td>214</td>\n",
       "      <td>home cubed site homeabout ushow worksrequest d...</td>\n",
       "      <td>marketing and advertising</td>\n",
       "      <td>3</td>\n",
       "    </tr>\n",
       "    <tr>\n",
       "      <th>317</th>\n",
       "      <td>317</td>\n",
       "      <td>gauger associates case studies capabilities cl...</td>\n",
       "      <td>marketing and advertising</td>\n",
       "      <td>3</td>\n",
       "    </tr>\n",
       "    <tr>\n",
       "      <th>365</th>\n",
       "      <td>365</td>\n",
       "      <td>bloc influencers agency bloc services influenc...</td>\n",
       "      <td>marketing and advertising</td>\n",
       "      <td>3</td>\n",
       "    </tr>\n",
       "    <tr>\n",
       "      <th>...</th>\n",
       "      <td>...</td>\n",
       "      <td>...</td>\n",
       "      <td>...</td>\n",
       "      <td>...</td>\n",
       "    </tr>\n",
       "    <tr>\n",
       "      <th>1694246</th>\n",
       "      <td>1694246</td>\n",
       "      <td>shipley brown media group home media solutions...</td>\n",
       "      <td>marketing and advertising</td>\n",
       "      <td>3</td>\n",
       "    </tr>\n",
       "    <tr>\n",
       "      <th>1694309</th>\n",
       "      <td>1694309</td>\n",
       "      <td>box home courses tob teams testimonials jobs b...</td>\n",
       "      <td>marketing and advertising</td>\n",
       "      <td>3</td>\n",
       "    </tr>\n",
       "    <tr>\n",
       "      <th>1694372</th>\n",
       "      <td>1694372</td>\n",
       "      <td>fms expert management advisory services field ...</td>\n",
       "      <td>marketing and advertising</td>\n",
       "      <td>3</td>\n",
       "    </tr>\n",
       "    <tr>\n",
       "      <th>1694482</th>\n",
       "      <td>1694482</td>\n",
       "      <td>welcome professional manufacturers pmr toggle ...</td>\n",
       "      <td>marketing and advertising</td>\n",
       "      <td>3</td>\n",
       "    </tr>\n",
       "    <tr>\n",
       "      <th>1694516</th>\n",
       "      <td>1694516</td>\n",
       "      <td>savavo build bot new savavo new savavo com use...</td>\n",
       "      <td>marketing and advertising</td>\n",
       "      <td>3</td>\n",
       "    </tr>\n",
       "  </tbody>\n",
       "</table>\n",
       "<p>27129 rows × 4 columns</p>\n",
       "</div>"
      ],
      "text/plain": [
       "         Unnamed: 0                                               text  \\\n",
       "0                 0  benefits board benefits board homejoin plannin...   \n",
       "207             207  green card wisconsin newest discount golf card...   \n",
       "214             214  home cubed site homeabout ushow worksrequest d...   \n",
       "317             317  gauger associates case studies capabilities cl...   \n",
       "365             365  bloc influencers agency bloc services influenc...   \n",
       "...             ...                                                ...   \n",
       "1694246     1694246  shipley brown media group home media solutions...   \n",
       "1694309     1694309  box home courses tob teams testimonials jobs b...   \n",
       "1694372     1694372  fms expert management advisory services field ...   \n",
       "1694482     1694482  welcome professional manufacturers pmr toggle ...   \n",
       "1694516     1694516  savavo build bot new savavo new savavo com use...   \n",
       "\n",
       "                          industry  cluster  \n",
       "0        marketing and advertising        3  \n",
       "207      marketing and advertising        3  \n",
       "214      marketing and advertising        3  \n",
       "317      marketing and advertising        3  \n",
       "365      marketing and advertising        3  \n",
       "...                            ...      ...  \n",
       "1694246  marketing and advertising        3  \n",
       "1694309  marketing and advertising        3  \n",
       "1694372  marketing and advertising        3  \n",
       "1694482  marketing and advertising        3  \n",
       "1694516  marketing and advertising        3  \n",
       "\n",
       "[27129 rows x 4 columns]"
      ]
     },
     "execution_count": 7,
     "metadata": {},
     "output_type": "execute_result"
    }
   ],
   "source": [
    "left"
   ]
  },
  {
   "cell_type": "code",
   "execution_count": 8,
   "id": "6879e341",
   "metadata": {},
   "outputs": [
    {
     "data": {
      "text/html": [
       "<div>\n",
       "<style scoped>\n",
       "    .dataframe tbody tr th:only-of-type {\n",
       "        vertical-align: middle;\n",
       "    }\n",
       "\n",
       "    .dataframe tbody tr th {\n",
       "        vertical-align: top;\n",
       "    }\n",
       "\n",
       "    .dataframe thead th {\n",
       "        text-align: right;\n",
       "    }\n",
       "</style>\n",
       "<table border=\"1\" class=\"dataframe\">\n",
       "  <thead>\n",
       "    <tr style=\"text-align: right;\">\n",
       "      <th></th>\n",
       "      <th>Unnamed: 0</th>\n",
       "      <th>text</th>\n",
       "      <th>industry</th>\n",
       "      <th>cluster</th>\n",
       "    </tr>\n",
       "  </thead>\n",
       "  <tbody>\n",
       "    <tr>\n",
       "      <th>5</th>\n",
       "      <td>5</td>\n",
       "      <td>big rapids real estate search houses homes sal...</td>\n",
       "      <td>real estate</td>\n",
       "      <td>3</td>\n",
       "    </tr>\n",
       "    <tr>\n",
       "      <th>7</th>\n",
       "      <td>7</td>\n",
       "      <td>advfn free stock cryptocurrency prices charts ...</td>\n",
       "      <td>internet</td>\n",
       "      <td>3</td>\n",
       "    </tr>\n",
       "    <tr>\n",
       "      <th>8</th>\n",
       "      <td>8</td>\n",
       "      <td>guardian athletics kato collar invest online s...</td>\n",
       "      <td>sports</td>\n",
       "      <td>3</td>\n",
       "    </tr>\n",
       "    <tr>\n",
       "      <th>10</th>\n",
       "      <td>10</td>\n",
       "      <td>valerion biotechnology company focused develop...</td>\n",
       "      <td>biotechnology</td>\n",
       "      <td>3</td>\n",
       "    </tr>\n",
       "    <tr>\n",
       "      <th>11</th>\n",
       "      <td>11</td>\n",
       "      <td>test page latticesystems com html body div spa...</td>\n",
       "      <td>e-learning</td>\n",
       "      <td>3</td>\n",
       "    </tr>\n",
       "    <tr>\n",
       "      <th>...</th>\n",
       "      <td>...</td>\n",
       "      <td>...</td>\n",
       "      <td>...</td>\n",
       "      <td>...</td>\n",
       "    </tr>\n",
       "    <tr>\n",
       "      <th>1694577</th>\n",
       "      <td>1694577</td>\n",
       "      <td>warehouse management systems software wms syst...</td>\n",
       "      <td>computer software</td>\n",
       "      <td>3</td>\n",
       "    </tr>\n",
       "    <tr>\n",
       "      <th>1694581</th>\n",
       "      <td>1694581</td>\n",
       "      <td>home byron bethany irrigation district menu ho...</td>\n",
       "      <td>government administration</td>\n",
       "      <td>3</td>\n",
       "    </tr>\n",
       "    <tr>\n",
       "      <th>1694582</th>\n",
       "      <td>1694582</td>\n",
       "      <td>official online store ewing athletics ewing at...</td>\n",
       "      <td>apparel &amp; fashion</td>\n",
       "      <td>3</td>\n",
       "    </tr>\n",
       "    <tr>\n",
       "      <th>1694583</th>\n",
       "      <td>1694583</td>\n",
       "      <td>staffing undercover productions las vegas unde...</td>\n",
       "      <td>entertainment</td>\n",
       "      <td>3</td>\n",
       "    </tr>\n",
       "    <tr>\n",
       "      <th>1694585</th>\n",
       "      <td>1694585</td>\n",
       "      <td>australia guitar amp recording specialists gui...</td>\n",
       "      <td>music</td>\n",
       "      <td>3</td>\n",
       "    </tr>\n",
       "  </tbody>\n",
       "</table>\n",
       "<p>846204 rows × 4 columns</p>\n",
       "</div>"
      ],
      "text/plain": [
       "         Unnamed: 0                                               text  \\\n",
       "5                 5  big rapids real estate search houses homes sal...   \n",
       "7                 7  advfn free stock cryptocurrency prices charts ...   \n",
       "8                 8  guardian athletics kato collar invest online s...   \n",
       "10               10  valerion biotechnology company focused develop...   \n",
       "11               11  test page latticesystems com html body div spa...   \n",
       "...             ...                                                ...   \n",
       "1694577     1694577  warehouse management systems software wms syst...   \n",
       "1694581     1694581  home byron bethany irrigation district menu ho...   \n",
       "1694582     1694582  official online store ewing athletics ewing at...   \n",
       "1694583     1694583  staffing undercover productions las vegas unde...   \n",
       "1694585     1694585  australia guitar amp recording specialists gui...   \n",
       "\n",
       "                          industry  cluster  \n",
       "5                      real estate        3  \n",
       "7                         internet        3  \n",
       "8                           sports        3  \n",
       "10                   biotechnology        3  \n",
       "11                      e-learning        3  \n",
       "...                            ...      ...  \n",
       "1694577          computer software        3  \n",
       "1694581  government administration        3  \n",
       "1694582          apparel & fashion        3  \n",
       "1694583              entertainment        3  \n",
       "1694585                      music        3  \n",
       "\n",
       "[846204 rows x 4 columns]"
      ]
     },
     "execution_count": 8,
     "metadata": {},
     "output_type": "execute_result"
    }
   ],
   "source": [
    "right"
   ]
  },
  {
   "cell_type": "code",
   "execution_count": 14,
   "id": "c3207c2a",
   "metadata": {},
   "outputs": [],
   "source": [
    "from itertools import combinations"
   ]
  },
  {
   "cell_type": "code",
   "execution_count": 1,
   "id": "4d901486",
   "metadata": {},
   "outputs": [
    {
     "ename": "NameError",
     "evalue": "name 'left' is not defined",
     "output_type": "error",
     "traceback": [
      "\u001b[0;31m---------------------------------------------------------------------------\u001b[0m",
      "\u001b[0;31mNameError\u001b[0m                                 Traceback (most recent call last)",
      "\u001b[0;32m<ipython-input-1-165d6e2c1569>\u001b[0m in \u001b[0;36m<module>\u001b[0;34m\u001b[0m\n\u001b[1;32m      1\u001b[0m \u001b[0mto_compute\u001b[0m \u001b[0;34m=\u001b[0m \u001b[0;34m{\u001b[0m\u001b[0;34m}\u001b[0m\u001b[0;34m\u001b[0m\u001b[0;34m\u001b[0m\u001b[0m\n\u001b[1;32m      2\u001b[0m \u001b[0;34m\u001b[0m\u001b[0m\n\u001b[0;32m----> 3\u001b[0;31m \u001b[0;32mfor\u001b[0m \u001b[0mi\u001b[0m \u001b[0;32min\u001b[0m \u001b[0mleft\u001b[0m\u001b[0;34m.\u001b[0m\u001b[0mindex\u001b[0m\u001b[0;34m:\u001b[0m\u001b[0;34m\u001b[0m\u001b[0;34m\u001b[0m\u001b[0m\n\u001b[0m\u001b[1;32m      4\u001b[0m     \u001b[0;32mfor\u001b[0m \u001b[0mj\u001b[0m \u001b[0;32min\u001b[0m \u001b[0mright\u001b[0m\u001b[0;34m.\u001b[0m\u001b[0mindex\u001b[0m\u001b[0;34m:\u001b[0m\u001b[0;34m\u001b[0m\u001b[0;34m\u001b[0m\u001b[0m\n\u001b[1;32m      5\u001b[0m         \u001b[0mto_compute\u001b[0m\u001b[0;34m[\u001b[0m\u001b[0;34m(\u001b[0m\u001b[0mi\u001b[0m\u001b[0;34m,\u001b[0m\u001b[0mj\u001b[0m\u001b[0;34m)\u001b[0m\u001b[0;34m]\u001b[0m \u001b[0;34m=\u001b[0m \u001b[0;36m0\u001b[0m\u001b[0;34m\u001b[0m\u001b[0;34m\u001b[0m\u001b[0m\n",
      "\u001b[0;31mNameError\u001b[0m: name 'left' is not defined"
     ]
    }
   ],
   "source": [
    "to_compute = {}\n",
    "\n",
    "for i in left.index:\n",
    "    for j in right.index:\n",
    "        to_compute[(i,j)] = 0\n",
    "\n",
    "to_compute"
   ]
  },
  {
   "cell_type": "code",
   "execution_count": null,
   "id": "9fced3be",
   "metadata": {},
   "outputs": [],
   "source": [
    "to_compute"
   ]
  },
  {
   "cell_type": "code",
   "execution_count": null,
   "id": "1e118589",
   "metadata": {},
   "outputs": [],
   "source": [
    "cosine_values = pairwise_distances(X=tfidf_industry, Y=tfidf_other, metric='cosine')\n",
    "cosine_values = scipy.sparse.csr_matrix(cosine_values)\n",
    "indices = cosine_values.argmax(axis=1)\n",
    "for i, index in enumerate(current_industry_indices):\n",
    "    related_of[index] = current_other_indices[indices[i,0]]\n",
    "print(cosine_values)"
   ]
  },
  {
   "cell_type": "code",
   "execution_count": null,
   "id": "961577b2",
   "metadata": {},
   "outputs": [],
   "source": []
  }
 ],
 "metadata": {
  "kernelspec": {
   "display_name": "Python 3",
   "language": "python",
   "name": "python3"
  },
  "language_info": {
   "codemirror_mode": {
    "name": "ipython",
    "version": 3
   },
   "file_extension": ".py",
   "mimetype": "text/x-python",
   "name": "python",
   "nbconvert_exporter": "python",
   "pygments_lexer": "ipython3",
   "version": "3.8.8"
  }
 },
 "nbformat": 4,
 "nbformat_minor": 5
}
